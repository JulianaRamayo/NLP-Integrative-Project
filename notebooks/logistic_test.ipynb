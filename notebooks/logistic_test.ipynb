{
 "cells": [
  {
   "cell_type": "markdown",
   "id": "362b9bc2",
   "metadata": {},
   "source": [
    "\n",
    "# Sentiment Analysis on Amazon Reviews\n",
    "\n",
    "## Objectives\n",
    "1. Build two classifiers:\n",
    "   - Logistic Regression with TFIDF vectorization.\n",
    "   - Deep Neural Network (DNN).\n",
    "2. Preprocess the dataset to clean text data.\n",
    "3. Use K-Folds cross-validation to evaluate models.\n",
    "4. Provide evaluation metrics such as accuracy, precision, recall, and F1-score.\n",
    "\n",
    "---\n"
   ]
  },
  {
   "cell_type": "markdown",
   "id": "d99b1102",
   "metadata": {},
   "source": [
    "\n",
    "## Dataset Loading and Exploration\n",
    "\n",
    "Let's load the Amazon reviews dataset and explore its structure. We will look at the dimensions, check for missing values, and plot the distribution of classes to better understand the data.\n"
   ]
  },
  {
   "cell_type": "code",
   "execution_count": 1,
   "id": "867ab4f5-bdd7-4994-b3bd-a1bca376cd8f",
   "metadata": {
    "id": "UCt4s5aM6yvq"
   },
   "outputs": [],
   "source": [
    "# Necessary imports\n",
    "from joblib import Parallel, delayed\n",
    "from sklearn.feature_extraction.text import TfidfVectorizer\n",
    "from sklearn.linear_model import LogisticRegression\n",
    "from sklearn.metrics import classification_report, accuracy_score, confusion_matrix, ConfusionMatrixDisplay\n",
    "from sklearn.model_selection import KFold\n",
    "from nltk.tokenize import word_tokenize\n",
    "from nltk.corpus import stopwords\n",
    "from nltk.stem import PorterStemmer, WordNetLemmatizer\n",
    "from tqdm import tqdm\n",
    "import re\n",
    "import pandas as pd\n",
    "import numpy as np\n",
    "import matplotlib.pyplot as plt\n"
   ]
  },
  {
   "cell_type": "code",
   "execution_count": 2,
   "id": "5989b06c",
   "metadata": {
    "id": "UCt4s5aM6yvq"
   },
   "outputs": [],
   "source": [
    "test_df = pd.read_csv('test.csv', header=None)\n",
    "train_df = pd.read_csv('train.csv', header=None)"
   ]
  },
  {
   "cell_type": "code",
   "execution_count": 3,
   "id": "724e0ff4",
   "metadata": {},
   "outputs": [
    {
     "name": "stdout",
     "output_type": "stream",
     "text": [
      "Training Dataset Dimensions: (3600000, 3)\n",
      "Test Dataset Dimensions: (400000, 3)\n",
      "Missing values in training set:\n",
      "0      0\n",
      "1    207\n",
      "2      0\n",
      "dtype: int64\n",
      "Missing values in test set:\n",
      "0     0\n",
      "1    24\n",
      "2     0\n",
      "dtype: int64\n"
     ]
    },
    {
     "data": {
      "image/png": "[encoded data removed]",
      "text/plain": [
       "<Figure size 1000x500 with 1 Axes>"
      ]
     },
     "metadata": {},
     "output_type": "display_data"
    }
   ],
   "source": [
    "\n",
    "# Dataset dimensions and basic information\n",
    "print(\"Training Dataset Dimensions:\", train_df.shape)\n",
    "print(\"Test Dataset Dimensions:\", test_df.shape)\n",
    "\n",
    "# Check for missing values\n",
    "print(\"Missing values in training set:\")\n",
    "print(train_df.isnull().sum())\n",
    "\n",
    "print(\"Missing values in test set:\")\n",
    "print(test_df.isnull().sum())\n",
    "\n",
    "# Plotting class distribution\n",
    "import matplotlib.pyplot as plt\n",
    "\n",
    "plt.figure(figsize=(10, 5))\n",
    "train_df[0].value_counts().plot(kind='bar', color=['skyblue', 'salmon'])\n",
    "plt.title('Class Distribution in Training Set')\n",
    "plt.xlabel('Sentiment (1 = Negative, 2 = Positive)')\n",
    "plt.ylabel('Count')\n",
    "plt.show()\n"
   ]
  },
  {
   "cell_type": "code",
   "execution_count": 4,
   "id": "51928f29-8a56-4583-b4be-571c7beba27f",
   "metadata": {
    "id": "UCt4s5aM6yvq"
   },
   "outputs": [
    {
     "name": "stdout",
     "output_type": "stream",
     "text": [
      "Dropping rows with null values from the original dataset...\n",
      "Training dataset size after dropping nulls: (3599793, 3)\n",
      "Testing dataset size after dropping nulls: (399976, 3)\n"
     ]
    }
   ],
   "source": [
    "# Drop rows with null values from the original dataset\n",
    "print(\"Dropping rows with null values from the original dataset...\")\n",
    "train_df.dropna(inplace=True)\n",
    "test_df.dropna(inplace=True)\n",
    "print(f\"Training dataset size after dropping nulls: {train_df.shape}\")\n",
    "print(f\"Testing dataset size after dropping nulls: {test_df.shape}\")\n"
   ]
  },
  {
   "cell_type": "markdown",
   "id": "af498381",
   "metadata": {},
   "source": [
    "\n",
    "## Data Preprocessing\n",
    "\n",
    "In this step, we will preprocess the dataset to clean the text reviews. The preprocessing steps include:\n",
    "- Lowercasing\n",
    "- Removing non-alphabetical characters\n",
    "- Tokenization\n",
    "- Lemmatization\n",
    "\n",
    "We will also use parallelism to speed up the preprocessing.\n"
   ]
  },
  {
   "cell_type": "code",
   "execution_count": 5,
   "id": "48924c97",
   "metadata": {
    "id": "4_oOz8aQ7QyJ"
   },
   "outputs": [
    {
     "name": "stdout",
     "output_type": "stream",
     "text": [
      "Processing training dataset...\n",
      "Processing Column 1...\n"
     ]
    },
    {
     "name": "stderr",
     "output_type": "stream",
     "text": [
      "Column 1: 100%|███████████████████████████████████████████████████████████| 3599793/3599793 [00:18<00:00, 199933.00it/s]\n"
     ]
    },
    {
     "name": "stdout",
     "output_type": "stream",
     "text": [
      "Processing Column 2...\n"
     ]
    },
    {
     "name": "stderr",
     "output_type": "stream",
     "text": [
      "Column 2: 100%|████████████████████████████████████████████████████████████| 3599793/3599793 [01:17<00:00, 46557.19it/s]\n"
     ]
    },
    {
     "name": "stdout",
     "output_type": "stream",
     "text": [
      "Processing test dataset...\n",
      "Processing Column 1...\n"
     ]
    },
    {
     "name": "stderr",
     "output_type": "stream",
     "text": [
      "Column 1: 100%|█████████████████████████████████████████████████████████████| 399976/399976 [00:01<00:00, 306317.21it/s]\n"
     ]
    },
    {
     "name": "stdout",
     "output_type": "stream",
     "text": [
      "Processing Column 2...\n"
     ]
    },
    {
     "name": "stderr",
     "output_type": "stream",
     "text": [
      "Column 2: 100%|██████████████████████████████████████████████████████████████| 399976/399976 [00:08<00:00, 46795.05it/s]\n"
     ]
    },
    {
     "name": "stdout",
     "output_type": "stream",
     "text": [
      "Saving processed datasets to CSV...\n",
      "Processed datasets saved to 'processed_train_df.csv' and 'processed_test_df.csv'\n"
     ]
    }
   ],
   "source": [
    "from joblib import Parallel, delayed\n",
    "from nltk.tokenize import word_tokenize\n",
    "from nltk.corpus import stopwords\n",
    "from nltk.stem import WordNetLemmatizer\n",
    "import re\n",
    "from tqdm import tqdm\n",
    "import pandas as pd\n",
    "\n",
    "# Define a standalone function for text cleaning\n",
    "def clean_text(text, stop_words, char_filter, lemmatizer):\n",
    "    \"\"\"\n",
    "    Clean and preprocess a single text string.\n",
    "    \"\"\"\n",
    "    if not isinstance(text, str) or text.strip() == \"\":\n",
    "        return \"EMPTY\"\n",
    "\n",
    "    text = text.lower()\n",
    "    text = char_filter.sub(' ', text)\n",
    "    tokens = word_tokenize(text)\n",
    "    tokens = [lemmatizer.lemmatize(token) for token in tokens if token not in stop_words]\n",
    "\n",
    "    return ' '.join(tokens)\n",
    "\n",
    "\n",
    "class TextPreprocessor:\n",
    "    def __init__(self, n_jobs=10):\n",
    "        self.stop_words = set(stopwords.words('english'))\n",
    "        self.char_filter = re.compile('[^a-zA-Z\\s]')\n",
    "        self.lemmatizer = WordNetLemmatizer()\n",
    "        self.n_jobs = n_jobs\n",
    "\n",
    "    def preprocess_dataset(self, df):\n",
    "        \"\"\"\n",
    "        Preprocess the entire dataset using parallelism with progress reporting.\n",
    "        \"\"\"\n",
    "        processed_df = df.copy()\n",
    "\n",
    "        for col in [1, 2]:\n",
    "            print(f\"Processing Column {col}...\")\n",
    "            processed_df[col] = Parallel(n_jobs=self.n_jobs)(\n",
    "                delayed(clean_text)(\n",
    "                    text, self.stop_words, self.char_filter, self.lemmatizer\n",
    "                ) for text in tqdm(processed_df[col], desc=f\"Column {col}\")\n",
    "            )\n",
    "        return processed_df\n",
    "\n",
    "\n",
    "# Example usage\n",
    "preprocessor = TextPreprocessor()\n",
    "\n",
    "# Assuming `train_df` and `test_df` are the cleaned DataFrames\n",
    "print(\"Processing training dataset...\")\n",
    "processed_train_df = preprocessor.preprocess_dataset(train_df)\n",
    "\n",
    "print(\"Processing test dataset...\")\n",
    "processed_test_df = preprocessor.preprocess_dataset(test_df)\n",
    "\n",
    "# Save processed datasets to CSV files\n",
    "print(\"Saving processed datasets to CSV...\")\n",
    "processed_train_df.to_csv(\"processed_train_df.csv\", index=False, header=False)\n",
    "processed_test_df.to_csv(\"processed_test_df.csv\", index=False, header=False)\n",
    "\n",
    "print(\"Processed datasets saved to 'processed_train_df.csv' and 'processed_test_df.csv'\")\n",
    "\n"
   ]
  },
  {
   "cell_type": "markdown",
   "id": "6e4974f3",
   "metadata": {},
   "source": [
    "\n",
    "## TFIDF Vectorization and Logistic Regression Classifier\n",
    "\n",
    "Next, we create a logistic regression classifier using TFIDF vectorization of the text data. We use parallelism for vectorization and model fitting where possible.\n"
   ]
  },
  {
   "cell_type": "code",
   "execution_count": 6,
   "id": "244547f8",
   "metadata": {
    "id": "BAljWegABaM4"
   },
   "outputs": [],
   "source": [
    "from joblib import Parallel, delayed\n",
    "from sklearn.feature_extraction.text import TfidfVectorizer\n",
    "from sklearn.linear_model import LogisticRegression\n",
    "from sklearn.metrics import classification_report, accuracy_score\n",
    "from sklearn.model_selection import KFold\n",
    "from tqdm import tqdm\n",
    "import numpy as np\n",
    "\n",
    "class ReviewClassifier:\n",
    "    def __init__(self, max_features=100000, n_jobs=10):\n",
    "        \"\"\"\n",
    "        Initialize the ReviewClassifier with parallelism and TFIDF.\n",
    "        \"\"\"\n",
    "        self.vectorizer = TfidfVectorizer(max_features=max_features)\n",
    "        self.model = LogisticRegression(random_state=42, n_jobs=n_jobs)\n",
    "        self.n_jobs = n_jobs\n",
    "\n",
    "    def train(self, X_text, y_labels):\n",
    "        \"\"\"\n",
    "        Train the classifier:\n",
    "        X_text: Series/Array of preprocessed text (reviews)\n",
    "        y_labels: Series/Array of labels (1 for negative, 2 for positive)\n",
    "        \"\"\"\n",
    "        print(\"Vectorizing training data...\")\n",
    "        X_tfidf = self.vectorizer.fit_transform(tqdm(X_text, desc=\"Vectorizing\"))\n",
    "\n",
    "        print(\"Fitting the Logistic Regression model...\")\n",
    "        self.model.fit(X_tfidf, y_labels)\n",
    "\n",
    "        print(\"Training completed!\")\n",
    "        return self.model.score(X_tfidf, y_labels)\n",
    "\n",
    "    def predict(self, X_text):\n",
    "        \"\"\"\n",
    "        Predict sentiment for new reviews\n",
    "        \"\"\"\n",
    "        print(\"Vectorizing test data for prediction...\")\n",
    "        X_tfidf = self.vectorizer.transform(tqdm(X_text, desc=\"Vectorizing Test Data\"))\n",
    "        return self.model.predict(X_tfidf)\n",
    "\n",
    "    def evaluate(self, X_text, y_true):\n",
    "        \"\"\"\n",
    "        Evaluate the model and return classification report\n",
    "        \"\"\"\n",
    "        print(\"Evaluating the model...\")\n",
    "        predictions = self.predict(X_text)\n",
    "        print(\"Evaluation completed!\")\n",
    "        return classification_report(y_true, predictions)\n",
    "\n",
    "    def cross_validate(self, X_text, y_labels, n_splits=5):\n",
    "        \"\"\"\n",
    "        Perform K-Folds Cross-Validation with progress reporting.\n",
    "        X_text: Series/Array of preprocessed text (reviews)\n",
    "        y_labels: Series/Array of labels (1 for negative, 2 for positive)\n",
    "        n_splits: Number of folds for K-Folds\n",
    "        \"\"\"\n",
    "        print(\"Starting K-Folds Cross-Validation...\")\n",
    "        \n",
    "        # Ensure indices are consistent\n",
    "        X_text = X_text.reset_index(drop=True)\n",
    "        y_labels = y_labels.reset_index(drop=True)\n",
    "        \n",
    "        kf = KFold(n_splits=n_splits, shuffle=True, random_state=42)\n",
    "        fold_accuracies = []\n",
    "    \n",
    "        for fold, (train_index, test_index) in tqdm(enumerate(kf.split(X_text), 1), total=n_splits, desc=\"Cross-Validation Progress\"):\n",
    "            X_train, X_test = X_text.iloc[train_index], X_text.iloc[test_index]\n",
    "            y_train, y_test = y_labels.iloc[train_index], y_labels.iloc[test_index]\n",
    "    \n",
    "            print(f\"Processing Fold {fold}...\")\n",
    "            X_tfidf_train = self.vectorizer.fit_transform(X_train)\n",
    "            X_tfidf_test = self.vectorizer.transform(X_test)\n",
    "            self.model.fit(X_tfidf_train, y_train)\n",
    "            predictions = self.model.predict(X_tfidf_test)\n",
    "            accuracy = accuracy_score(y_test, predictions)\n",
    "            fold_accuracies.append(accuracy)\n",
    "    \n",
    "            print(f\"Fold {fold} Accuracy: {accuracy}\")\n",
    "            print(classification_report(y_test, predictions))\n",
    "    \n",
    "        print(f\"Average K-Folds Accuracy: {np.mean(fold_accuracies)}\")\n",
    "        return fold_accuracies\n",
    "\n"
   ]
  },
  {
   "cell_type": "markdown",
   "id": "c617bdbf",
   "metadata": {},
   "source": [
    "\n",
    "## Model Evaluation\n",
    "\n",
    "We will evaluate the logistic regression model using:\n",
    "1. Training accuracy.\n",
    "2. Test set classification report.\n",
    "3. K-Folds cross-validation.\n",
    "4. Confusion matrix visualization.\n"
   ]
  },
  {
   "cell_type": "code",
   "execution_count": 7,
   "id": "407e3c27",
   "metadata": {
    "colab": {
     "base_uri": "https://localhost:8080/"
    },
    "id": "WfmRSXcvCJLw",
    "outputId": "57069871-b430-4540-f138-c7dd6f4a786a"
   },
   "outputs": [
    {
     "name": "stdout",
     "output_type": "stream",
     "text": [
      "Vectorizing training data...\n"
     ]
    },
    {
     "name": "stderr",
     "output_type": "stream",
     "text": [
      "Vectorizing: 100%|█████████████████████████████████████████████████████████| 3599793/3599793 [00:37<00:00, 95856.03it/s]\n"
     ]
    },
    {
     "name": "stdout",
     "output_type": "stream",
     "text": [
      "Fitting the Logistic Regression model...\n",
      "Training completed!\n",
      "Training Accuracy: 0.8785610728172425\n",
      "Evaluating the model...\n",
      "Vectorizing test data for prediction...\n"
     ]
    },
    {
     "name": "stderr",
     "output_type": "stream",
     "text": [
      "Vectorizing Test Data: 100%|█████████████████████████████████████████████████| 399976/399976 [00:04<00:00, 81844.72it/s]\n"
     ]
    },
    {
     "name": "stdout",
     "output_type": "stream",
     "text": [
      "Evaluation completed!\n",
      "\n",
      "Test Classification Report:\n",
      "              precision    recall  f1-score   support\n",
      "\n",
      "           1       0.88      0.87      0.87    199984\n",
      "           2       0.87      0.88      0.88    199992\n",
      "\n",
      "    accuracy                           0.88    399976\n",
      "   macro avg       0.88      0.88      0.88    399976\n",
      "weighted avg       0.88      0.88      0.88    399976\n",
      "\n",
      "Starting K-Folds Cross-Validation...\n"
     ]
    },
    {
     "name": "stderr",
     "output_type": "stream",
     "text": [
      "Cross-Validation Progress:   0%|                                                                  | 0/5 [00:00<?, ?it/s]"
     ]
    },
    {
     "name": "stdout",
     "output_type": "stream",
     "text": [
      "Processing Fold 1...\n"
     ]
    },
    {
     "name": "stderr",
     "output_type": "stream",
     "text": [
      "Cross-Validation Progress:  20%|███████████▌                                              | 1/5 [00:58<03:55, 58.92s/it]"
     ]
    },
    {
     "name": "stdout",
     "output_type": "stream",
     "text": [
      "Fold 1 Accuracy: 0.875909600407801\n",
      "              precision    recall  f1-score   support\n",
      "\n",
      "           1       0.88      0.87      0.87    358949\n",
      "           2       0.87      0.88      0.88    361010\n",
      "\n",
      "    accuracy                           0.88    719959\n",
      "   macro avg       0.88      0.88      0.88    719959\n",
      "weighted avg       0.88      0.88      0.88    719959\n",
      "\n",
      "Processing Fold 2...\n"
     ]
    },
    {
     "name": "stderr",
     "output_type": "stream",
     "text": [
      "Cross-Validation Progress:  40%|███████████████████████▏                                  | 2/5 [01:53<02:49, 56.43s/it]"
     ]
    },
    {
     "name": "stdout",
     "output_type": "stream",
     "text": [
      "Fold 2 Accuracy: 0.8740831075102887\n",
      "              precision    recall  f1-score   support\n",
      "\n",
      "           1       0.88      0.87      0.87    360682\n",
      "           2       0.87      0.88      0.87    359277\n",
      "\n",
      "    accuracy                           0.87    719959\n",
      "   macro avg       0.87      0.87      0.87    719959\n",
      "weighted avg       0.87      0.87      0.87    719959\n",
      "\n",
      "Processing Fold 3...\n"
     ]
    },
    {
     "name": "stderr",
     "output_type": "stream",
     "text": [
      "Cross-Validation Progress:  60%|██████████████████████████████████▊                       | 3/5 [02:46<01:49, 54.82s/it]"
     ]
    },
    {
     "name": "stdout",
     "output_type": "stream",
     "text": [
      "Fold 3 Accuracy: 0.8743178430993988\n",
      "              precision    recall  f1-score   support\n",
      "\n",
      "           1       0.88      0.87      0.87    359958\n",
      "           2       0.87      0.88      0.87    360001\n",
      "\n",
      "    accuracy                           0.87    719959\n",
      "   macro avg       0.87      0.87      0.87    719959\n",
      "weighted avg       0.87      0.87      0.87    719959\n",
      "\n",
      "Processing Fold 4...\n"
     ]
    },
    {
     "name": "stderr",
     "output_type": "stream",
     "text": [
      "Cross-Validation Progress:  80%|██████████████████████████████████████████████▍           | 4/5 [03:47<00:57, 57.15s/it]"
     ]
    },
    {
     "name": "stdout",
     "output_type": "stream",
     "text": [
      "Fold 4 Accuracy: 0.8745801838440576\n",
      "              precision    recall  f1-score   support\n",
      "\n",
      "           1       0.88      0.87      0.87    360497\n",
      "           2       0.87      0.88      0.88    359461\n",
      "\n",
      "    accuracy                           0.87    719958\n",
      "   macro avg       0.87      0.87      0.87    719958\n",
      "weighted avg       0.87      0.87      0.87    719958\n",
      "\n",
      "Processing Fold 5...\n"
     ]
    },
    {
     "name": "stderr",
     "output_type": "stream",
     "text": [
      "Cross-Validation Progress: 100%|██████████████████████████████████████████████████████████| 5/5 [04:43<00:00, 56.75s/it]"
     ]
    },
    {
     "name": "stdout",
     "output_type": "stream",
     "text": [
      "Fold 5 Accuracy: 0.875664969345434\n",
      "              precision    recall  f1-score   support\n",
      "\n",
      "           1       0.88      0.87      0.88    359794\n",
      "           2       0.87      0.88      0.88    360164\n",
      "\n",
      "    accuracy                           0.88    719958\n",
      "   macro avg       0.88      0.88      0.88    719958\n",
      "weighted avg       0.88      0.88      0.88    719958\n",
      "\n",
      "Average K-Folds Accuracy: 0.874911140841396\n",
      "\n",
      "K-Folds Accuracies:\n",
      "[0.875909600407801, 0.8740831075102887, 0.8743178430993988, 0.8745801838440576, 0.875664969345434]\n"
     ]
    },
    {
     "name": "stderr",
     "output_type": "stream",
     "text": [
      "\n"
     ]
    }
   ],
   "source": [
    "# Initialize the classifier\n",
    "classifier = ReviewClassifier(max_features=100000, n_jobs=3)\n",
    "\n",
    "# Train the model\n",
    "training_accuracy = classifier.train(processed_train_df[2], train_df[0])\n",
    "print(f\"Training Accuracy: {training_accuracy}\")\n",
    "\n",
    "# Evaluate the model\n",
    "test_report = classifier.evaluate(processed_test_df[2], test_df[0])\n",
    "print(\"\\nTest Classification Report:\")\n",
    "print(test_report)\n",
    "\n",
    "# Perform K-Folds Cross-Validation\n",
    "kfold_accuracies = classifier.cross_validate(processed_train_df[2], train_df[0], n_splits=5)\n",
    "print(\"\\nK-Folds Accuracies:\")\n",
    "print(kfold_accuracies)\n"
   ]
  },
  {
   "cell_type": "code",
   "execution_count": 8,
   "id": "2d7703ae",
   "metadata": {},
   "outputs": [
    {
     "name": "stdout",
     "output_type": "stream",
     "text": [
      "Vectorizing test data for prediction...\n"
     ]
    },
    {
     "name": "stderr",
     "output_type": "stream",
     "text": [
      "Vectorizing Test Data: 100%|█████████████████████████████████████████████████| 399976/399976 [00:04<00:00, 84060.39it/s]\n"
     ]
    },
    {
     "data": {
      "image/png": "[encoded data removed]",
      "text/plain": [
       "<Figure size 800x800 with 2 Axes>"
      ]
     },
     "metadata": {},
     "output_type": "display_data"
    }
   ],
   "source": [
    "from sklearn.metrics import confusion_matrix, ConfusionMatrixDisplay\n",
    "import matplotlib.pyplot as plt\n",
    "\n",
    "# Compute predictions\n",
    "predictions = classifier.predict(processed_test_df[2])\n",
    "\n",
    "# Compute confusion matrix\n",
    "conf_matrix = confusion_matrix(test_df[0], predictions)\n",
    "\n",
    "# Plotting Confusion Matrix\n",
    "disp = ConfusionMatrixDisplay(confusion_matrix=conf_matrix, display_labels=[\"Negative\", \"Positive\"])\n",
    "fig, ax = plt.subplots(figsize=(8, 8))\n",
    "disp.plot(cmap=\"Blues\", ax=ax, values_format=\"d\")\n",
    "plt.title(\"Confusion Matrix for Logistic Regression\")\n",
    "plt.show()\n",
    "\n"
   ]
  },
  {
   "cell_type": "markdown",
   "id": "cc5a82ee",
   "metadata": {},
   "source": [
    "\n",
    "## Sentiment Analysis on New Reviews\n",
    "\n",
    "We will test the trained logistic regression model on some new reviews to predict their sentiment.\n"
   ]
  },
  {
   "cell_type": "code",
   "execution_count": 10,
   "id": "33a8ae5b",
   "metadata": {},
   "outputs": [
    {
     "name": "stdout",
     "output_type": "stream",
     "text": [
      "Preprocessing new reviews...\n"
     ]
    },
    {
     "name": "stderr",
     "output_type": "stream",
     "text": [
      "\n",
      "Preprocessing New Reviews: 100%|████████████████████████████████████████████████████████| 5/5 [00:00<00:00, 4337.44it/s]\u001b[A\n"
     ]
    },
    {
     "name": "stdout",
     "output_type": "stream",
     "text": [
      "Predicting sentiments for new reviews...\n",
      "Vectorizing test data for prediction...\n"
     ]
    },
    {
     "name": "stderr",
     "output_type": "stream",
     "text": [
      "\n",
      "Vectorizing Test Data: 100%|███████████████████████████████████████████████████████████| 5/5 [00:00<00:00, 14820.86it/s]\u001b[A"
     ]
    },
    {
     "name": "stdout",
     "output_type": "stream",
     "text": [
      "\n",
      "Sentiment Analysis Results:\n",
      "Original Review: I hated this movie\n",
      "Processed Review: hated movie\n",
      "Predicted Sentiment: Negative\n",
      "\n",
      "Original Review: this movie was so good, I love it\n",
      "Processed Review: movie good love\n",
      "Predicted Sentiment: Positive\n",
      "\n",
      "Original Review: I love it so much I could die.\n",
      "Processed Review: love much could die\n",
      "Predicted Sentiment: Positive\n",
      "\n",
      "Original Review: I couldn’t stop laughing at how bad it was!\n",
      "Processed Review: stop laughing bad\n",
      "Predicted Sentiment: Positive\n",
      "\n",
      "Original Review: I couldn’t stop laughing at how bad it was! The best comedy ever made\n",
      "Processed Review: stop laughing bad best comedy ever made\n",
      "Predicted Sentiment: Positive\n",
      "\n"
     ]
    },
    {
     "name": "stderr",
     "output_type": "stream",
     "text": [
      "\n"
     ]
    }
   ],
   "source": [
    "# Preprocess new reviews using the existing clean_text function\n",
    "print(\"Preprocessing new reviews...\")\n",
    "preprocessed_new_reviews = Parallel(n_jobs=preprocessor.n_jobs)(\n",
    "    delayed(clean_text)(\n",
    "        review, preprocessor.stop_words, preprocessor.char_filter, preprocessor.lemmatizer\n",
    "    ) for review in tqdm(new_reviews, desc=\"Preprocessing New Reviews\")\n",
    ")\n",
    "\n",
    "# Make predictions\n",
    "print(\"Predicting sentiments for new reviews...\")\n",
    "predictions = classifier.predict(preprocessed_new_reviews)\n",
    "\n",
    "# Display results\n",
    "print(\"\\nSentiment Analysis Results:\")\n",
    "for original_review, processed_review, prediction in zip(new_reviews, preprocessed_new_reviews, predictions):\n",
    "    sentiment = \"Negative\" if prediction == 1 else \"Positive\"\n",
    "    print(f\"Original Review: {original_review}\")\n",
    "    print(f\"Processed Review: {processed_review}\")\n",
    "    print(f\"Predicted Sentiment: {sentiment}\\n\")\n"
   ]
  },
  {
   "cell_type": "code",
   "execution_count": null,
   "id": "4ce57f84-f328-43bd-9333-86aa17bfbfe6",
   "metadata": {},
   "outputs": [],
   "source": []
  }
 ],
 "metadata": {
  "kernelspec": {
   "display_name": "Python 3 (ipykernel)",
   "language": "python",
   "name": "python3"
  },
  "language_info": {
   "codemirror_mode": {
    "name": "ipython",
    "version": 3
   },
   "file_extension": ".py",
   "mimetype": "text/x-python",
   "name": "python",
   "nbconvert_exporter": "python",
   "pygments_lexer": "ipython3",
   "version": "3.10.12"
  }
 },
 "nbformat": 4,
 "nbformat_minor": 5
}
