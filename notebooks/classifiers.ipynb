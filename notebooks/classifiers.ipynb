{
 "cells": [
  {
   "cell_type": "code",
   "execution_count": 1,
   "metadata": {},
   "outputs": [],
   "source": [
    "import sys\n",
    "import os\n",
    "\n",
    "notebook_dir = os.getcwd()\n",
    "project_dir = os.path.abspath(os.path.join(notebook_dir, \"..\"))\n",
    "\n",
    "if project_dir not in sys.path:\n",
    "    sys.path.append(project_dir)"
   ]
  },
  {
   "cell_type": "code",
   "execution_count": 2,
   "metadata": {},
   "outputs": [
    {
     "name": "stderr",
     "output_type": "stream",
     "text": [
      "C:\\Users\\juanj\\OneDrive\\Desktop\\projects\\NLP-Integrative-Project\\src\\utils\\text_preprocessor.py:12: SyntaxWarning: invalid escape sequence '\\s'\n",
      "  self.char_filter = re.compile('[^a-zA-Z\\s]')\n"
     ]
    }
   ],
   "source": [
    "from src.classifiers import TFIDF_classifier as tfidf\n",
    "from src.utils import text_preprocessor as our_preprocessor\n",
    "\n",
    "import pandas as pd\n",
    "import nltk"
   ]
  },
  {
   "cell_type": "code",
   "execution_count": 3,
   "metadata": {},
   "outputs": [
    {
     "name": "stderr",
     "output_type": "stream",
     "text": [
      "[nltk_data] Downloading package punkt_tab to\n",
      "[nltk_data]     C:\\Users\\juanj\\AppData\\Roaming\\nltk_data...\n",
      "[nltk_data]   Package punkt_tab is already up-to-date!\n",
      "[nltk_data] Downloading package stopwords to data...\n",
      "[nltk_data]   Package stopwords is already up-to-date!\n"
     ]
    }
   ],
   "source": [
    "nltk.download(\"punkt_tab\")\n",
    "nltk.download(\"stopwords\",\"data\")\n",
    "nltk.data.path.append('data')"
   ]
  },
  {
   "cell_type": "code",
   "execution_count": 4,
   "metadata": {},
   "outputs": [],
   "source": [
    "test_df = pd.read_csv('../data/test.csv', header=None)\n",
    "train_df = pd.read_csv('../data/train.csv', header=None)"
   ]
  },
  {
   "cell_type": "code",
   "execution_count": 5,
   "metadata": {},
   "outputs": [],
   "source": [
    "small_test_df = test_df.sample(frac=0.1, random_state=42)\n",
    "small_train_df = train_df.sample(frac=0.1, random_state=42)"
   ]
  },
  {
   "cell_type": "code",
   "execution_count": 6,
   "metadata": {},
   "outputs": [],
   "source": [
    "preprocessor = our_preprocessor.TextPreprocessor()\n",
    "\n",
    "processed_train_df = preprocessor.preprocess_dataset(small_train_df)\n",
    "processed_test_df = preprocessor.preprocess_dataset(small_test_df)"
   ]
  },
  {
   "cell_type": "code",
   "execution_count": 7,
   "metadata": {},
   "outputs": [
    {
     "name": "stdout",
     "output_type": "stream",
     "text": [
      "Training accuracy: 0.8649972222222222\n",
      "\n",
      "Test Classification Report:\n",
      "              precision    recall  f1-score   support\n",
      "\n",
      "           1       0.86      0.85      0.86     19991\n",
      "           2       0.86      0.86      0.86     20009\n",
      "\n",
      "    accuracy                           0.86     40000\n",
      "   macro avg       0.86      0.86      0.86     40000\n",
      "weighted avg       0.86      0.86      0.86     40000\n",
      "\n"
     ]
    }
   ],
   "source": [
    "classifier = tfidf.TfidfLogRegClassifier()\n",
    "\n",
    "training_accuracy = classifier.train(processed_train_df[2], small_train_df[0])\n",
    "print(f\"Training accuracy: {training_accuracy}\")\n",
    "\n",
    "test_report = classifier.evaluate(processed_test_df[2], small_test_df[0])\n",
    "print(\"\\nTest Classification Report:\")\n",
    "print(test_report)"
   ]
  },
  {
   "cell_type": "code",
   "execution_count": 8,
   "metadata": {},
   "outputs": [
    {
     "name": "stdout",
     "output_type": "stream",
     "text": [
      "Review: I hated this movie\n",
      "Predicted Sentiment: Negative\n",
      "\n",
      "Review: this movie was so good, I love it\n",
      "Predicted Sentiment: Positive\n",
      "\n",
      "Review: I love it so much I could die.\n",
      "Predicted Sentiment: Negative\n",
      "\n",
      "Review: I couldn’t stop laughing at how bad it was!\n",
      "Predicted Sentiment: Negative\n",
      "\n",
      "Review: I couldn’t stop laughing at how bad it was! The best comedy ever made\n",
      "Predicted Sentiment: Positive\n",
      "\n"
     ]
    }
   ],
   "source": [
    "new_reviews = [\"I hated this movie\", \"this movie was so good, I love it\", \"I love it so much I could die.\", \"I couldn’t stop laughing at how bad it was!\", \"I couldn’t stop laughing at how bad it was! The best comedy ever made\"]\n",
    "\n",
    "preprocessed_new_reviews = [preprocessor.clean_text(review) for review in new_reviews]\n",
    "\n",
    "predictions = classifier.predict(preprocessed_new_reviews)\n",
    "\n",
    "for review, prediction in zip(new_reviews, predictions):\n",
    "    sentiment = \"Negative\" if prediction == 1 else \"Positive\"\n",
    "    print(f\"Review: {review}\")\n",
    "    print(f\"Predicted Sentiment: {sentiment}\\n\")"
   ]
  },
  {
   "cell_type": "code",
   "execution_count": 18,
   "metadata": {},
   "outputs": [],
   "source": [
    "import pickle\n",
    "\n",
    "model_path = '../models/sentiment_classifier_TFIDF.pkl'\n",
    "\n",
    "import os\n",
    "os.makedirs('../models', exist_ok=True)\n",
    "\n",
    "with open(model_path, 'wb') as f:\n",
    "    pickle.dump(classifier, f)\n",
    "\n",
    "with open(model_path, 'rb') as f:\n",
    "    loaded_classifier = pickle.load(f)\n",
    "\n",
    "new_reviews = [\"I hated this movie\", \"this movie was so good, I love it\"]\n",
    "preprocessed_new_reviews = [preprocessor.clean_text(review) for review in new_reviews]\n",
    "predictions = loaded_classifier.predict(preprocessed_new_reviews)"
   ]
  },
  {
   "cell_type": "code",
   "execution_count": 19,
   "metadata": {},
   "outputs": [
    {
     "name": "stdout",
     "output_type": "stream",
     "text": [
      "Review: I hated this movie\n",
      "Predicted Sentiment: Negative\n",
      "\n",
      "Review: this movie was so good, I love it\n",
      "Predicted Sentiment: Positive\n",
      "\n",
      "Review: horrible, really bad\n",
      "Predicted Sentiment: Negative\n",
      "\n"
     ]
    }
   ],
   "source": [
    "with open(model_path, 'rb') as f:\n",
    "    loaded_classifier = pickle.load(f)\n",
    "\n",
    "new_reviews = [\"I hated this movie\", \"this movie was so good, I love it\", \"horrible, really bad\"]\n",
    "preprocessed_new_reviews = [preprocessor.clean_text(review) for review in new_reviews]\n",
    "predictions = loaded_classifier.predict(preprocessed_new_reviews)\n",
    "\n",
    "for review, prediction in zip(new_reviews, predictions):\n",
    "    sentiment = \"Negative\" if prediction == 1 else \"Positive\"\n",
    "    print(f\"Review: {review}\")\n",
    "    print(f\"Predicted Sentiment: {sentiment}\\n\")\n"
   ]
  }
 ],
 "metadata": {
  "kernelspec": {
   "display_name": "Python 3 (ipykernel)",
   "language": "python",
   "name": "python3"
  },
  "language_info": {
   "codemirror_mode": {
    "name": "ipython",
    "version": 3
   },
   "file_extension": ".py",
   "mimetype": "text/x-python",
   "name": "python",
   "nbconvert_exporter": "python",
   "pygments_lexer": "ipython3",
   "version": "3.12.1"
  }
 },
 "nbformat": 4,
 "nbformat_minor": 4
}
